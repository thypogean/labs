{
 "cells": [
  {
   "cell_type": "markdown",
   "id": "84827dfe-378f-4bc0-a96b-64695c36ed17",
   "metadata": {},
   "source": [
    "## Лабораторная работа №2\n",
    "### Вариант 3\n",
    "Выполнил Данилов Максим"
   ]
  },
  {
   "cell_type": "markdown",
   "id": "3e3ab030-71e0-40c7-961d-13df4233576a",
   "metadata": {},
   "source": [
    "1. Изучение основ работы с массивами в NumPy:"
   ]
  },
  {
   "cell_type": "markdown",
   "id": "1508e7c2-de39-49f6-b419-93b3525bfad2",
   "metadata": {},
   "source": [
    "Импорт библиотеки в программу"
   ]
  },
  {
   "cell_type": "code",
   "execution_count": 1,
   "id": "8321474e-2706-4232-ac28-7d73d84e87a4",
   "metadata": {},
   "outputs": [],
   "source": [
    "import numpy as np"
   ]
  },
  {
   "cell_type": "markdown",
   "id": "27efc5d7-a7fe-4da3-9bd7-bad00f9e0638",
   "metadata": {},
   "source": [
    "Создание одномерных и многомерных массивов"
   ]
  },
  {
   "cell_type": "code",
   "execution_count": 2,
   "id": "7771673d-5bfd-4926-a148-85ac19924a3a",
   "metadata": {},
   "outputs": [],
   "source": [
    "# Одномерный массив (вектор) \n",
    "arr = np.array([1, 2, 3, 4, 5])\n",
    "# Многомерный массив (матрица)\n",
    "matrix = np.array([[1, 2, 3], \n",
    "                   [4, 5, 6], \n",
    "                   [7, 8, 9]])"
   ]
  },
  {
   "cell_type": "code",
   "execution_count": 3,
   "id": "610b7852-257e-4890-9c07-baaa7c3dc2b4",
   "metadata": {},
   "outputs": [
    {
     "name": "stdout",
     "output_type": "stream",
     "text": [
      "3\n",
      "[ 2  4  6  8 10]\n",
      "[ 2  4  6  8 10]\n"
     ]
    }
   ],
   "source": [
    "# Индексирование\n",
    "element = arr[2] # Получение элемента с индексом 2\n",
    "# Сложение и умножение\n",
    "result_sum = arr + arr # Сложение \n",
    "result_product = arr * 2 # Умножение на скаляр\n",
    "print(element)\n",
    "print(result_sum)\n",
    "print(result_product)"
   ]
  },
  {
   "cell_type": "markdown",
   "id": "5dee35d6-3a10-4ac5-97ff-69d6c80ebefa",
   "metadata": {},
   "source": [
    "2. Решение задач на матричные операции"
   ]
  },
  {
   "cell_type": "code",
   "execution_count": 6,
   "id": "c39830db-5c18-42cb-889b-6811a1bc3eea",
   "metadata": {},
   "outputs": [
    {
     "name": "stdout",
     "output_type": "stream",
     "text": [
      "[[19 22]\n",
      " [43 50]]\n",
      "[[1 3]\n",
      " [2 4]]\n"
     ]
    }
   ],
   "source": [
    "matrix_a = np.array([[1, 2], [3, 4]]) \n",
    "matrix_b = np.array([[5, 6], [7, 8]])\n",
    "result_matrix = np.dot(matrix_a, matrix_b)\n",
    "transposed_matrix = np.transpose(matrix_a)\n",
    "print(result_matrix)\n",
    "print(transposed_matrix)"
   ]
  },
  {
   "cell_type": "code",
   "execution_count": 7,
   "id": "76da7e84-217a-4e80-88a3-82d80397fafc",
   "metadata": {},
   "outputs": [
    {
     "name": "stdout",
     "output_type": "stream",
     "text": [
      "[[1 2 3]\n",
      " [4 5 6]]\n"
     ]
    }
   ],
   "source": [
    "data = np.array([[1, 2, 3], [4, 5, 6]])\n",
    "print(data)"
   ]
  },
  {
   "cell_type": "markdown",
   "id": "1d0ca902-aa21-4cc4-8d97-6793a3c0896d",
   "metadata": {},
   "source": [
    "Практическое задание на работу с массивами и матричными операциями. • Создайте\n",
    "два одномерных массива A и B, состоящих из 6 элементов каждый. Массив A должен содержать числа от 1 до 6, а массив B - числа от 7 до 12. • Вычислите среднее арифметическое элементов массивов A и B. • Вычислите стандартное отклонение элементов массивов A и B. • Выведите результаты статистических операций на экран."
   ]
  },
  {
   "cell_type": "code",
   "execution_count": 15,
   "id": "1e1802f4-1293-4e04-bf6d-f72f76bc4c45",
   "metadata": {},
   "outputs": [],
   "source": [
    "A = np.arange(1,7)\n",
    "B = np.arange(7,13)"
   ]
  },
  {
   "cell_type": "code",
   "execution_count": 16,
   "id": "07fec0ca-19c8-407d-ba62-093d7b31298a",
   "metadata": {},
   "outputs": [
    {
     "data": {
      "text/plain": [
       "3.5"
      ]
     },
     "execution_count": 16,
     "metadata": {},
     "output_type": "execute_result"
    }
   ],
   "source": [
    "A.mean()"
   ]
  },
  {
   "cell_type": "code",
   "execution_count": 17,
   "id": "4b34b7fc-eae0-4a5c-b17c-e9426f13582a",
   "metadata": {},
   "outputs": [
    {
     "data": {
      "text/plain": [
       "1.707825127659933"
      ]
     },
     "execution_count": 17,
     "metadata": {},
     "output_type": "execute_result"
    }
   ],
   "source": [
    "A.std()"
   ]
  },
  {
   "cell_type": "code",
   "execution_count": 18,
   "id": "8541a6ad-319f-4d01-bc42-08c2e33cad09",
   "metadata": {},
   "outputs": [
    {
     "data": {
      "text/plain": [
       "9.5"
      ]
     },
     "execution_count": 18,
     "metadata": {},
     "output_type": "execute_result"
    }
   ],
   "source": [
    "B.mean()"
   ]
  },
  {
   "cell_type": "code",
   "execution_count": 19,
   "id": "491467c2-58b5-4672-921f-d9c7b325010d",
   "metadata": {},
   "outputs": [
    {
     "data": {
      "text/plain": [
       "1.707825127659933"
      ]
     },
     "execution_count": 19,
     "metadata": {},
     "output_type": "execute_result"
    }
   ],
   "source": [
    "B.std()"
   ]
  },
  {
   "cell_type": "code",
   "execution_count": null,
   "id": "aebf226d-75f6-4b44-9feb-e4ba6e2c6235",
   "metadata": {},
   "outputs": [],
   "source": []
  }
 ],
 "metadata": {
  "kernelspec": {
   "display_name": "Python 3 (ipykernel)",
   "language": "python",
   "name": "python3"
  },
  "language_info": {
   "codemirror_mode": {
    "name": "ipython",
    "version": 3
   },
   "file_extension": ".py",
   "mimetype": "text/x-python",
   "name": "python",
   "nbconvert_exporter": "python",
   "pygments_lexer": "ipython3",
   "version": "3.10.13"
  }
 },
 "nbformat": 4,
 "nbformat_minor": 5
}
